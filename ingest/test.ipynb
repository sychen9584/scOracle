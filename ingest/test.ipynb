{
 "cells": [
  {
   "cell_type": "code",
   "execution_count": 10,
   "id": "55207a8e",
   "metadata": {},
   "outputs": [],
   "source": [
    "from llama_index.core import (\n",
    "    SimpleDirectoryReader,\n",
    "    VectorStoreIndex,\n",
    "    StorageContext,\n",
    "    ServiceContext,\n",
    ")\n",
    "from llama_index.core.node_parser import SentenceSplitter, CodeSplitter\n",
    "from llama_index.embeddings.huggingface import HuggingFaceEmbedding\n",
    "from llama_index.vector_stores.chroma import ChromaVectorStore\n",
    "import chromadb\n",
    "import os\n",
    "\n",
    "from html_doc_loader import load_html_documents\n",
    "from llama_index.core.node_parser import SentenceSplitter"
   ]
  },
  {
   "cell_type": "code",
   "execution_count": 5,
   "id": "f6ba3788",
   "metadata": {},
   "outputs": [],
   "source": [
    "# === CONFIGURATION ===\n",
    "# Set the path to the directory containing the documents\n",
    "DATA_DIR_DOCS = \"../data/scanpy_docs\"\n",
    "# Set the path to the directory containing the code\n",
    "DATA_DIR_CODE = \"../data/scanpy_src/core\"\n",
    "DATA_DIR_TUTORIALs = \"../data/scanpy_src/tutorials\"\n",
    "CHROMA_PATH = \"chroma_db\"\n",
    "COLLECTION_NAME = \"scoracle_index\"\n",
    "EMBED_MODEL = \"sentence-transformers/all-MiniLM-L6-v2\""
   ]
  },
  {
   "cell_type": "code",
   "execution_count": 11,
   "id": "acdd6894",
   "metadata": {},
   "outputs": [
    {
     "name": "stdout",
     "output_type": "stream",
     "text": [
      "[INFO] Loaded 298 HTML documents from ../data/scanpy_docs\n"
     ]
    }
   ],
   "source": [
    "html_docs = load_html_documents(DATA_DIR_DOCS)"
   ]
  },
  {
   "cell_type": "code",
   "execution_count": 12,
   "id": "66e83951",
   "metadata": {},
   "outputs": [],
   "source": [
    "# Chunk\n",
    "splitter = SentenceSplitter(chunk_size=500, chunk_overlap=100)\n",
    "html_nodes = splitter.get_nodes_from_documents(html_docs)"
   ]
  },
  {
   "cell_type": "code",
   "execution_count": 15,
   "id": "b0ff8db9",
   "metadata": {},
   "outputs": [],
   "source": [
    "code_loader = SimpleDirectoryReader(\n",
    "    input_dir=DATA_DIR_CODE,\n",
    "    recursive=True,\n",
    "    required_exts=[\".py\"],\n",
    ")\n",
    "code_nodes = code_loader.load_data()\n",
    "for doc in code_nodes:\n",
    "    doc.metadata[\"type\"] = \"code\""
   ]
  },
  {
   "cell_type": "code",
   "execution_count": 18,
   "id": "0d21989a",
   "metadata": {},
   "outputs": [],
   "source": [
    "## === Load tutorial files (.ipynb) ===\n",
    "notebook_loader = SimpleDirectoryReader(\n",
    "    input_dir=DATA_DIR_TUTORIALs,\n",
    "    recursive=True,\n",
    "    required_exts=[\".ipynb\"],\n",
    ")\n",
    "notebook_nodes = notebook_loader.load_data()\n",
    "for doc in notebook_nodes:\n",
    "    doc.metadata[\"type\"] = \"tutorial\"\n",
    "    "
   ]
  },
  {
   "cell_type": "code",
   "execution_count": 19,
   "id": "04e9211e",
   "metadata": {},
   "outputs": [
    {
     "data": {
      "text/plain": [
       "(344, 117, 632)"
      ]
     },
     "execution_count": 19,
     "metadata": {},
     "output_type": "execute_result"
    }
   ],
   "source": [
    "len(notebook_nodes), len(code_nodes), len(html_nodes)"
   ]
  },
  {
   "cell_type": "code",
   "execution_count": 20,
   "id": "76ad5f8d",
   "metadata": {},
   "outputs": [
    {
     "name": "stderr",
     "output_type": "stream",
     "text": [
      "Xet Storage is enabled for this repo, but the 'hf_xet' package is not installed. Falling back to regular HTTP download. For better performance, install the package with: `pip install huggingface_hub[hf_xet]` or `pip install hf_xet`\n"
     ]
    }
   ],
   "source": [
    "# === Set up embedding model ===\n",
    "embed_model = HuggingFaceEmbedding(model_name=EMBED_MODEL)"
   ]
  },
  {
   "cell_type": "code",
   "execution_count": 21,
   "id": "eda51e84",
   "metadata": {},
   "outputs": [
    {
     "data": {
      "text/plain": [
       "HuggingFaceEmbedding(model_name='sentence-transformers/all-MiniLM-L6-v2', embed_batch_size=10, callback_manager=<llama_index.core.callbacks.base.CallbackManager object at 0x7f3f6e4e6110>, num_workers=None, max_length=256, normalize=True, query_instruction=None, text_instruction=None, cache_folder=None, show_progress_bar=False)"
      ]
     },
     "execution_count": 21,
     "metadata": {},
     "output_type": "execute_result"
    }
   ],
   "source": [
    "embed_model"
   ]
  },
  {
   "cell_type": "code",
   "execution_count": null,
   "id": "18335787",
   "metadata": {},
   "outputs": [],
   "source": []
  }
 ],
 "metadata": {
  "kernelspec": {
   "display_name": ".venv",
   "language": "python",
   "name": "python3"
  },
  "language_info": {
   "codemirror_mode": {
    "name": "ipython",
    "version": 3
   },
   "file_extension": ".py",
   "mimetype": "text/x-python",
   "name": "python",
   "nbconvert_exporter": "python",
   "pygments_lexer": "ipython3",
   "version": "3.11.11"
  }
 },
 "nbformat": 4,
 "nbformat_minor": 5
}
