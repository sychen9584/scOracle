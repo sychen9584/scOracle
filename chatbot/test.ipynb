{
 "cells": [
  {
   "cell_type": "code",
   "execution_count": 1,
   "id": "dbcdfb51",
   "metadata": {},
   "outputs": [
    {
     "name": "stderr",
     "output_type": "stream",
     "text": [
      "/home/sychen9584/projects/scOracle/.venv/lib/python3.11/site-packages/tqdm/auto.py:21: TqdmWarning: IProgress not found. Please update jupyter and ipywidgets. See https://ipywidgets.readthedocs.io/en/stable/user_install.html\n",
      "  from .autonotebook import tqdm as notebook_tqdm\n"
     ]
    }
   ],
   "source": [
    "from llama_index.core import VectorStoreIndex, StorageContext\n",
    "from llama_index.vector_stores.chroma import ChromaVectorStore\n",
    "from llama_index.llms.openai import OpenAI\n",
    "from llama_index.core.agent.workflow import FunctionAgent\n",
    "import chromadb\n",
    "import openai\n",
    "import os\n",
    "import asyncio\n",
    "from llama_index.embeddings.huggingface import HuggingFaceEmbedding\n",
    "from llama_index.core import Settings"
   ]
  },
  {
   "cell_type": "code",
   "execution_count": 2,
   "id": "a793bdf1",
   "metadata": {},
   "outputs": [
    {
     "data": {
      "text/plain": [
       "True"
      ]
     },
     "execution_count": 2,
     "metadata": {},
     "output_type": "execute_result"
    }
   ],
   "source": [
    "from dotenv import load_dotenv\n",
    "load_dotenv(dotenv_path=os.path.expanduser(\"~/.scoracle.env\"))"
   ]
  },
  {
   "cell_type": "code",
   "execution_count": 3,
   "id": "e60ea23f",
   "metadata": {},
   "outputs": [],
   "source": [
    "# === CONFIGURATION ===\n",
    "CHROMA_PATH = \"../chroma_db\"\n",
    "COLLECTION_NAME = \"scoracle_index\"\n",
    "TOP_K = 5\n",
    "Settings.embed_model = HuggingFaceEmbedding(model_name=\"sentence-transformers/all-MiniLM-L6-v2\")\n",
    "\n",
    "# === OPENAI API KEY ===\n",
    "openai.api_key = os.getenv(\"OPENAI_API_KEY\")\n",
    "if openai.api_key is None:\n",
    "    raise ValueError(\"Please set the OPENAI_API_KEY environment variable.\")\n",
    "\n",
    "# === Retrieve the Chroma vector store ===\n",
    "chroma_client = chromadb.PersistentClient(path=CHROMA_PATH)\n",
    "collection = chroma_client.get_or_create_collection(COLLECTION_NAME)\n",
    "vector_store = ChromaVectorStore(chroma_collection=collection)\n",
    "storage_context = StorageContext.from_defaults(vector_store=vector_store)\n",
    "\n",
    "# === Rebuild the index ===\n",
    "index = VectorStoreIndex.from_vector_store(vector_store)\n",
    "query_engine = index.as_query_engine(similarity_top_k=TOP_K)"
   ]
  },
  {
   "cell_type": "code",
   "execution_count": 6,
   "id": "3364b245",
   "metadata": {},
   "outputs": [
    {
     "name": "stdout",
     "output_type": "stream",
     "text": [
      "[NodeWithScore(node=TextNode(id_='b33dba12-6328-4c3c-83d9-7bec19a200e2', embedding=None, metadata={'source': 'generated/scanpy._settings.ScanpyConfig.verbosity.html', 'type': 'html_doc'}, excluded_embed_metadata_keys=[], excluded_llm_metadata_keys=[], relationships={<NodeRelationship.SOURCE: '1'>: RelatedNodeInfo(node_id='de3928b5-e058-4bb8-9c40-87b595d035e6', node_type='4', metadata={'source': 'generated/scanpy._settings.ScanpyConfig.verbosity.html', 'type': 'html_doc'}, hash='c2d251ebb04103552e621d035ac304feae9995091ed858c5f9cbe0b62531b95b')}, metadata_template='{key}: {value}', metadata_separator='\\n', text='Skip to main content\\nBack to top\\nCtrl\\n+\\nK\\n.rst\\n.pdf\\nscanpy._settings.ScanpyConfig.verbosity\\nContents\\nscanpy._settings.ScanpyConfig.verbosity\\n#\\nproperty\\nScanpyConfig.\\nverbosity\\n:\\nVerbosity\\n[source]\\n#\\nVerbosity level (default\\nwarning\\n).\\nLevel 0: only show ‘error’ messages.\\nLevel 1: also show ‘warning’ messages.\\nLevel 2: also show ‘info’ messages.\\nLevel 3: also show ‘hint’ messages.\\nLevel 4: also show very detailed progress for ‘debug’ging.\\nContents', mimetype='text/plain', start_char_idx=0, end_char_idx=450, metadata_seperator='\\n', text_template='{metadata_str}\\n\\n{content}'), score=0.3463197296109427), NodeWithScore(node=TextNode(id_='78cf8e0e-0f07-4d13-813a-3481848c7dea', embedding=None, metadata={'source': 'generated/scanpy._settings.ScanpyConfig.verbosity.html', 'type': 'html_doc'}, excluded_embed_metadata_keys=[], excluded_llm_metadata_keys=[], relationships={<NodeRelationship.SOURCE: '1'>: RelatedNodeInfo(node_id='0476c306-d912-4589-b5e0-06a056039c77', node_type='4', metadata={'source': 'generated/scanpy._settings.ScanpyConfig.verbosity.html', 'type': 'html_doc'}, hash='c2d251ebb04103552e621d035ac304feae9995091ed858c5f9cbe0b62531b95b')}, metadata_template='{key}: {value}', metadata_separator='\\n', text='Skip to main content\\nBack to top\\nCtrl\\n+\\nK\\n.rst\\n.pdf\\nscanpy._settings.ScanpyConfig.verbosity\\nContents\\nscanpy._settings.ScanpyConfig.verbosity\\n#\\nproperty\\nScanpyConfig.\\nverbosity\\n:\\nVerbosity\\n[source]\\n#\\nVerbosity level (default\\nwarning\\n).\\nLevel 0: only show ‘error’ messages.\\nLevel 1: also show ‘warning’ messages.\\nLevel 2: also show ‘info’ messages.\\nLevel 3: also show ‘hint’ messages.\\nLevel 4: also show very detailed progress for ‘debug’ging.\\nContents', mimetype='text/plain', start_char_idx=0, end_char_idx=450, metadata_seperator='\\n', text_template='{metadata_str}\\n\\n{content}'), score=0.3463197296109427), NodeWithScore(node=TextNode(id_='347cbdca-26c9-47fd-ae6f-067908cf800f', embedding=None, metadata={'source': 'generated/scanpy._settings.ScanpyConfig.verbosity.html', 'type': 'html_doc'}, excluded_embed_metadata_keys=[], excluded_llm_metadata_keys=[], relationships={<NodeRelationship.SOURCE: '1'>: RelatedNodeInfo(node_id='c44885b1-cc21-4446-bad0-4e95025dba9c', node_type='4', metadata={'source': 'generated/scanpy._settings.ScanpyConfig.verbosity.html', 'type': 'html_doc'}, hash='c2d251ebb04103552e621d035ac304feae9995091ed858c5f9cbe0b62531b95b')}, metadata_template='{key}: {value}', metadata_separator='\\n', text='Skip to main content\\nBack to top\\nCtrl\\n+\\nK\\n.rst\\n.pdf\\nscanpy._settings.ScanpyConfig.verbosity\\nContents\\nscanpy._settings.ScanpyConfig.verbosity\\n#\\nproperty\\nScanpyConfig.\\nverbosity\\n:\\nVerbosity\\n[source]\\n#\\nVerbosity level (default\\nwarning\\n).\\nLevel 0: only show ‘error’ messages.\\nLevel 1: also show ‘warning’ messages.\\nLevel 2: also show ‘info’ messages.\\nLevel 3: also show ‘hint’ messages.\\nLevel 4: also show very detailed progress for ‘debug’ging.\\nContents', mimetype='text/plain', start_char_idx=0, end_char_idx=450, metadata_seperator='\\n', text_template='{metadata_str}\\n\\n{content}'), score=0.3463197296109427), NodeWithScore(node=TextNode(id_='a982fd27-b60b-43f2-932a-e67b747f86c8', embedding=None, metadata={'source': 'generated/scanpy._settings.ScanpyConfig.verbosity.html', 'type': 'html_doc'}, excluded_embed_metadata_keys=[], excluded_llm_metadata_keys=[], relationships={<NodeRelationship.SOURCE: '1'>: RelatedNodeInfo(node_id='b9c0137a-d306-4ff1-b8d5-c40125d51512', node_type='4', metadata={'source': 'generated/scanpy._settings.ScanpyConfig.verbosity.html', 'type': 'html_doc'}, hash='c2d251ebb04103552e621d035ac304feae9995091ed858c5f9cbe0b62531b95b')}, metadata_template='{key}: {value}', metadata_separator='\\n', text='Skip to main content\\nBack to top\\nCtrl\\n+\\nK\\n.rst\\n.pdf\\nscanpy._settings.ScanpyConfig.verbosity\\nContents\\nscanpy._settings.ScanpyConfig.verbosity\\n#\\nproperty\\nScanpyConfig.\\nverbosity\\n:\\nVerbosity\\n[source]\\n#\\nVerbosity level (default\\nwarning\\n).\\nLevel 0: only show ‘error’ messages.\\nLevel 1: also show ‘warning’ messages.\\nLevel 2: also show ‘info’ messages.\\nLevel 3: also show ‘hint’ messages.\\nLevel 4: also show very detailed progress for ‘debug’ging.\\nContents', mimetype='text/plain', start_char_idx=0, end_char_idx=450, metadata_seperator='\\n', text_template='{metadata_str}\\n\\n{content}'), score=0.3463197296109427), NodeWithScore(node=TextNode(id_='4144f2e0-0c58-4278-8608-c0d932a396e1', embedding=None, metadata={'source': 'generated/scanpy._settings.ScanpyConfig.verbosity.html', 'type': 'html_doc'}, excluded_embed_metadata_keys=[], excluded_llm_metadata_keys=[], relationships={<NodeRelationship.SOURCE: '1'>: RelatedNodeInfo(node_id='0fe08f18-ba56-440d-b106-b0c1811a59dc', node_type='4', metadata={'source': 'generated/scanpy._settings.ScanpyConfig.verbosity.html', 'type': 'html_doc'}, hash='c2d251ebb04103552e621d035ac304feae9995091ed858c5f9cbe0b62531b95b')}, metadata_template='{key}: {value}', metadata_separator='\\n', text='Skip to main content\\nBack to top\\nCtrl\\n+\\nK\\n.rst\\n.pdf\\nscanpy._settings.ScanpyConfig.verbosity\\nContents\\nscanpy._settings.ScanpyConfig.verbosity\\n#\\nproperty\\nScanpyConfig.\\nverbosity\\n:\\nVerbosity\\n[source]\\n#\\nVerbosity level (default\\nwarning\\n).\\nLevel 0: only show ‘error’ messages.\\nLevel 1: also show ‘warning’ messages.\\nLevel 2: also show ‘info’ messages.\\nLevel 3: also show ‘hint’ messages.\\nLevel 4: also show very detailed progress for ‘debug’ging.\\nContents', mimetype='text/plain', start_char_idx=0, end_char_idx=450, metadata_seperator='\\n', text_template='{metadata_str}\\n\\n{content}'), score=0.3463197296109427)]\n"
     ]
    }
   ],
   "source": [
    "response = await query_engine.aquery(\"Is scanpy in the knowledge base?\")\n",
    "print(response.source_nodes)"
   ]
  },
  {
   "cell_type": "code",
   "execution_count": 4,
   "id": "bfe64e0d",
   "metadata": {},
   "outputs": [
    {
     "name": "stdout",
     "output_type": "stream",
     "text": [
      "✅ Embedding model: model_name='sentence-transformers/all-MiniLM-L6-v2' embed_batch_size=10 callback_manager=<llama_index.core.callbacks.base.CallbackManager object at 0x7f4c437bea50> num_workers=None max_length=256 normalize=True query_instruction=None text_instruction=None cache_folder=None show_progress_bar=False\n",
      "✅ Embedding dim: [0.011573437601327896, 0.0251361895352602, -0.036701854318380356, 0.05932486057281494, -0.0071490430273115635, -0.04119423031806946, 0.07708737999200821, 0.037442535161972046, 0.01244898047298193, -0.00611766055226326, 0.01703425496816635, -0.07701537013053894, -0.0003942012262996286, 0.027909034863114357, -0.015989141538739204, -0.06827524304389954, 0.008884700015187263, -0.02028077282011509, -0.08035991340875626, -0.013074060901999474, -0.04109995812177658, -0.02589803747832775, -0.026538634672760963, 0.03305227309465408, -0.022079160436987877, 0.021046141162514687, -0.05792197957634926, 0.03294876962900162, 0.02970741130411625, -0.06224839389324188, 0.03878803923726082, 0.03199071064591408, 0.015330767259001732, 0.04530699923634529, 0.05314940586686134, 0.013360727578401566, 0.04122491925954819, 0.028142865747213364, 0.019398454576730728, -0.003252341179177165, -0.003612315747886896, -0.14286021888256073, 0.03807119280099869, -0.0109162088483572, 0.02609398402273655, 0.0413699671626091, -0.016015782952308655, 0.053560107946395874, -0.05685945972800255, 0.012246767058968544, -0.03499661013484001, -0.03975416719913483, -0.04614298418164253, -0.03911236301064491, -0.01800365187227726, 0.0216342993080616, -0.006461314857006073, -0.026569467037916183, 0.04872877523303032, 0.043400611728429794, 0.046200092881917953, -0.03447902947664261, -0.024219321087002754, 0.05564908683300018, 0.024624407291412354, 0.01948552019894123, 0.011352761648595333, -0.025762295350432396, -0.03224451094865799, -0.03265216201543808, -0.014595886692404747, 0.014690318144857883, 0.01030453946441412, 0.07407967746257782, 0.08006178587675095, -0.004143581259995699, 0.002714259549975395, -0.07674669474363327, 0.05881529673933983, -0.004839144181460142, -0.08736332505941391, -0.04646194726228714, -0.039625439792871475, 0.05249393731355667, 0.024801399558782578, 0.08080151677131653, 0.11981363594532013, 0.031771402806043625, -0.11397236585617065, 0.010673894546926022, 0.01972375065088272, 0.03871829807758331, -0.03454234078526497, -0.006243171636015177, -0.04255078732967377, 0.022628605365753174, 0.008293676190078259, -0.01944367215037346, -0.02325104922056198, 0.245337575674057, 0.049442119896411896, 0.029147403314709663, -0.005753709003329277, -0.020419538021087646, -0.07761144638061523, -0.04297921434044838, 0.0004303146852180362, -0.06692597270011902, 0.07076037675142288, 0.00650695851072669, -0.0584452822804451, -0.00505733210593462, 0.030943749472498894, 0.027579599991440773, 0.027111206203699112, -0.0681862086057663, -0.06576879322528839, 0.05907771363854408, -0.03189416974782944, 0.040606096386909485, 0.0571017824113369, 0.006903518922626972, 0.006207646802067757, -0.013271493837237358, 0.03124038502573967, -0.040296949446201324, 0.07085215300321579, -4.846274844982355e-33, 0.021934399381279945, -0.10270483046770096, 0.05621322616934776, 0.09758376330137253, -0.05268491432070732, 0.019097674638032913, -0.010507452301681042, 0.07035726308822632, -0.009123322553932667, 0.05957069993019104, 0.009338617324829102, -0.01552305743098259, -0.023274023085832596, 0.02397683449089527, 0.10208852589130402, 0.09320348501205444, -0.03313610330224037, 0.01172157283872366, -0.06560061872005463, 0.031464770436286926, -0.023807866498827934, -0.04873909428715706, 0.01225791871547699, -0.040014222264289856, -0.07650814205408096, -0.03555329889059067, -0.0013622288824990392, -0.016429221257567406, 0.016882464289665222, -0.0003748882154468447, -0.05272497236728668, 0.029880942776799202, -0.07291100919246674, 0.06912257522344589, -0.017607908695936203, -0.005510258954018354, 0.01295462530106306, -0.02270192839205265, 0.026741299778223038, -0.025845758616924286, -0.04020211100578308, -0.013495096936821938, 0.0007997759967111051, 0.02860129624605179, 0.03194249048829079, -0.03160714730620384, -0.029549861326813698, -0.020251203328371048, 0.04817775636911392, -0.0013076304458081722, -0.013747179880738258, 0.02003016136586666, -0.06870554387569427, -0.021960819140076637, -0.0313321053981781, 0.04928039386868477, 0.01209475751966238, -0.058868058025836945, -0.02646573819220066, 0.05988996475934982, 0.06764882057905197, 0.03401573747396469, -0.052884407341480255, 0.05971943214535713, -0.025482527911663055, -0.02072998695075512, -0.05382552370429039, -0.09741067886352539, 0.047928307205438614, 0.05239958316087723, -0.023259639739990234, -0.06907135993242264, 0.016656814143061638, 0.0284764114767313, -0.02920488268136978, -0.03548670932650566, -0.012644162401556969, 0.07333985716104507, -0.019434968009591103, -0.06327889859676361, 0.0960664227604866, -0.07743864506483078, 0.01593950390815735, -0.044800832867622375, 0.016302719712257385, -0.0007480892818421125, -0.008702695369720459, -0.0988139808177948, 0.005742864217609167, -0.07192356884479523, -0.032677728682756424, 0.019894592463970184, 0.003859749296680093, -0.025551114231348038, 0.08238360285758972, 4.0862648499299594e-33, -0.029488150030374527, 0.02555142156779766, -0.05106084421277046, 0.15531237423419952, 0.052311379462480545, -0.03454820439219475, 0.13314688205718994, -0.019209686666727066, -0.05976710841059685, 0.12289652973413467, 0.010202896781265736, -0.0496731698513031, 0.058467186987400055, 0.012732724659144878, -0.01658635400235653, 0.012795422226190567, 0.04575816169381142, -0.06982147693634033, -0.048524159938097, -0.004963468294590712, -0.09043654054403305, 0.06992115825414658, 0.009389059618115425, -0.006744667422026396, -0.1060924082994461, 0.031094873324036598, 0.04942592978477478, -0.04487110301852226, -0.007371698971837759, -0.03356105834245682, 0.07605846226215363, 0.007239083293825388, -0.042201507836580276, 0.07079151272773743, 0.04747208207845688, 0.020783070474863052, 0.1533106118440628, -0.008394029922783375, -0.02588067576289177, 0.060799114406108856, 0.06681555509567261, 0.06472291052341461, 0.04982011392712593, 0.08878505229949951, -0.03294116631150246, 0.07035745680332184, 0.01719537377357483, -0.03018529899418354, 0.038543809205293655, 0.048469625413417816, -0.060510147362947464, 0.03053235076367855, 0.01560384500771761, -0.030421439558267593, -0.00944050308316946, -0.04105143994092941, -0.06789781153202057, 0.010199669748544693, -0.025656577199697495, 0.021715616807341576, -0.06997857242822647, 0.09247461706399918, -0.03571976348757744, 0.07013794034719467, -0.06342048197984695, -0.03294026851654053, -0.046196382492780685, 0.054140061140060425, 0.051723312586545944, 0.04292219504714012, 0.013475125655531883, 0.01659662462770939, -0.04410721734166145, -0.019720055162906647, 0.03620151802897453, -0.019661374390125275, -0.11567911505699158, 0.005954951047897339, 0.00456683523952961, -0.04494286701083183, -0.06840217858552933, -0.08530455827713013, -0.07095213234424591, 0.08038380742073059, -0.057982902973890305, 0.0578271858394146, 0.05022653192281723, 0.0594230517745018, -0.036556389182806015, 0.00926960725337267, 0.05252375081181526, 0.02798953466117382, -0.03336905315518379, -0.0507848896086216, -0.012864751741290092, -1.4297851791411631e-08, -0.04052524268627167, -0.0857907384634018, 0.045168329030275345, 0.021677004173398018, -0.022338539361953735, 0.01220765057951212, -0.032489173114299774, -0.016952963545918465, -0.027171004563570023, 0.006002877838909626, 0.040276072919368744, 0.02696271426975727, -0.03562464192509651, 0.07408861815929413, 0.032374102622270584, -0.09056800603866577, -0.031741611659526825, 0.0409252755343914, -0.00995589978992939, 0.03068837709724903, -0.0769139751791954, 0.04158452898263931, 0.00019602941756602377, 0.06277664005756378, -0.03609054535627365, 0.04884392023086548, 0.05422694981098175, 0.12662000954151154, -0.0038486875128000975, 0.0008294819272123277, 0.06961394101381302, 0.044005025178194046, -0.03208102658390999, -0.0852382481098175, 0.013769911602139473, 0.022801827639341354, -0.002847253577783704, -0.006785213481634855, 0.03758794069290161, 0.03527691960334778, -0.06678415089845657, 0.021526485681533813, 0.03752664104104042, -0.04542561247944832, -0.05103161558508873, -0.06799469143152237, -0.030867092311382294, -0.036390334367752075, -0.014874984510242939, -0.09368294477462769, -0.03157738223671913, 0.010241773910820484, 0.015077266842126846, -0.0023830286227166653, 0.024135589599609375, -0.013285359367728233, 0.006583800073713064, 0.024441534653306007, -0.13713592290878296, 0.06391432881355286, 0.19671837985515594, -0.006029725074768066, 0.05319401994347572, -0.05522599443793297]\n",
      "✅ Chroma path: ../chroma_db\n",
      "✅ Collection name: scoracle_index\n",
      "✅ # of vectors in Chroma: 7904\n"
     ]
    }
   ],
   "source": [
    "# Check model consistency\n",
    "print(\"✅ Embedding model:\", Settings.embed_model)\n",
    "\n",
    "# Confirm embedding dimension\n",
    "print(\"✅ Embedding dim:\", Settings.embed_model.get_query_embedding(\"test\"))\n",
    "\n",
    "# Confirm vector store path\n",
    "print(\"✅ Chroma path:\", CHROMA_PATH)\n",
    "\n",
    "# Reconnect to collection\n",
    "client = chromadb.PersistentClient(path=CHROMA_PATH)\n",
    "collection = client.get_or_create_collection(\"scoracle_index\")\n",
    "print(\"✅ Collection name:\", collection.name)\n",
    "print(\"✅ # of vectors in Chroma:\", collection.count())"
   ]
  },
  {
   "cell_type": "code",
   "execution_count": 9,
   "id": "b763085a",
   "metadata": {},
   "outputs": [
    {
     "name": "stdout",
     "output_type": "stream",
     "text": [
      "🧠 DB path: ../chroma_db\n",
      "🧾 Collection list: [Collection(name=scoracle_index)]\n",
      "✅ Collection name: scoracle_index\n",
      "✅ # of vectors in Chroma: 7904\n",
      "🔬 Welcome to scOracle — Ask about single-cell analysis!\n",
      "\n"
     ]
    }
   ],
   "source": [
    "client = chromadb.PersistentClient(path=CHROMA_PATH)\n",
    "collection = client.get_or_create_collection(\"scoracle_index\")\n",
    "print(\"🧠 DB path:\", CHROMA_PATH)\n",
    "print(\"🧾 Collection list:\", chroma_client.list_collections())\n",
    "print(\"✅ Collection name:\", collection.name)\n",
    "print(\"✅ # of vectors in Chroma:\", collection.count())\n",
    "print(\"🔬 Welcome to scOracle — Ask about single-cell analysis!\\n\")"
   ]
  },
  {
   "cell_type": "code",
   "execution_count": null,
   "id": "e25bbbaa",
   "metadata": {},
   "outputs": [],
   "source": []
  }
 ],
 "metadata": {
  "kernelspec": {
   "display_name": ".venv",
   "language": "python",
   "name": "python3"
  },
  "language_info": {
   "codemirror_mode": {
    "name": "ipython",
    "version": 3
   },
   "file_extension": ".py",
   "mimetype": "text/x-python",
   "name": "python",
   "nbconvert_exporter": "python",
   "pygments_lexer": "ipython3",
   "version": "3.11.11"
  }
 },
 "nbformat": 4,
 "nbformat_minor": 5
}
